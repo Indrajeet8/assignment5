{
 "cells": [
  {
   "cell_type": "markdown",
   "id": "05cbb4e5-98ce-4a2c-9908-f1971a0d8376",
   "metadata": {},
   "source": [
    "Assignment 5\n"
   ]
  },
  {
   "cell_type": "markdown",
   "id": "73968212-7fc7-44f7-879a-0e6c064f7f38",
   "metadata": {},
   "source": [
    "Ques - 1"
   ]
  },
  {
   "cell_type": "markdown",
   "id": "9888e6ff-4475-4435-a69b-906366961f68",
   "metadata": {},
   "source": [
    "ans--\n",
    "We know that python also supports the concept of objects and classes.\n",
    "\n",
    "An object is simply a collection of data (variables) and methods (functions). Similarly, a class is a blueprint for that object.\n",
    "\n",
    "A class is considered as a blueprint of objects. We can think of the class as a sketch (prototype) of a house. It contains all the details about the floors, doors, windows, etc. Based on these descriptions we build the house. House is the object.\n"
   ]
  },
  {
   "cell_type": "markdown",
   "id": "adc46e60-b59f-43f6-a40d-4ab4f61b0c23",
   "metadata": {},
   "source": [
    "Example-"
   ]
  },
  {
   "cell_type": "code",
   "execution_count": 1,
   "id": "26bb667c-a84e-4e59-95e0-6aead828c8e5",
   "metadata": {},
   "outputs": [],
   "source": [
    "class pwskills :\n",
    "    def welcome_msg(self) :\n",
    "        print (\"welcome to pwskills\")\n",
    "    "
   ]
  },
  {
   "cell_type": "markdown",
   "id": "2814eef0-0b44-4c2a-a1c4-b13c31746546",
   "metadata": {},
   "source": [
    "Ques--2"
   ]
  },
  {
   "cell_type": "code",
   "execution_count": 2,
   "id": "85447110-8fb7-46f3-a424-54bf93ff3a67",
   "metadata": {},
   "outputs": [],
   "source": [
    " #four pillars of object-oriented programming (OOP).\n",
    "#These four pillars are\n",
    "#Inheritance, Polymorphism, Encapsulation and Abstraction."
   ]
  },
  {
   "cell_type": "markdown",
   "id": "7aeb6b3f-062c-41eb-b4dc-e22f2bdc6cb5",
   "metadata": {},
   "source": [
    "Ques--3"
   ]
  },
  {
   "cell_type": "markdown",
   "id": "47cc44e9-c3f3-4c90-8937-3460f47680ef",
   "metadata": {},
   "source": [
    "The __init__ function is called every time an object is created from a class. The __init__ method lets the class initialize the object's attributes and serves no other purpose. It is only used within classes"
   ]
  },
  {
   "cell_type": "markdown",
   "id": "f890512b-eb78-4b1c-93a9-a5afe7a24d62",
   "metadata": {},
   "source": [
    "Example"
   ]
  },
  {
   "cell_type": "code",
   "execution_count": 4,
   "id": "810d93cd-be55-4bc9-9455-38c759a82026",
   "metadata": {},
   "outputs": [],
   "source": [
    "class pwskills1 :\n",
    "    \n",
    "    def __init__(self ,phone_number , email_id , student_id ):\n",
    "        self.phone_number = phone_number\n",
    "        self.email_id = email_id\n",
    "        self.student_id = student_id\n",
    "    \n",
    "    def return_student_deetials(self) : \n",
    "        return self.student_id ,self.phone_number ,self.email_id\n",
    "    "
   ]
  },
  {
   "cell_type": "code",
   "execution_count": 6,
   "id": "c938a58f-98a9-432c-98c5-93a1ee7996fa",
   "metadata": {},
   "outputs": [],
   "source": [
    "indrajeet = pwskills1(434676422,\"rindrajeet725@gmail.com\",654)"
   ]
  },
  {
   "cell_type": "code",
   "execution_count": 7,
   "id": "505367f7-faab-4714-9c59-0a7f06b7fd27",
   "metadata": {},
   "outputs": [
    {
     "data": {
      "text/plain": [
       "(654, 434676422, 'rindrajeet725@gmail.com')"
      ]
     },
     "execution_count": 7,
     "metadata": {},
     "output_type": "execute_result"
    }
   ],
   "source": [
    "indrajeet.return_student_deetials()"
   ]
  },
  {
   "cell_type": "markdown",
   "id": "ff1f463e-ba53-416f-bb8c-ead144d2f256",
   "metadata": {},
   "source": [
    "Ques--4"
   ]
  },
  {
   "cell_type": "markdown",
   "id": "3a630234-4432-4c4c-9c92-27b9b3b0682b",
   "metadata": {},
   "source": [
    "The self parameter is a reference to the current instance of the class, and is used to access variables that belongs to the class."
   ]
  },
  {
   "cell_type": "markdown",
   "id": "ff52690f-b263-41be-ad23-686b81dd3002",
   "metadata": {},
   "source": [
    "Ques -- 5"
   ]
  },
  {
   "cell_type": "markdown",
   "id": "7e37af73-1fdd-4972-adff-9b14fda1b195",
   "metadata": {},
   "source": [
    "Inheritance relationship defines the classes that inherit from other classes as derived, subclass, or sub-type classes. Base class remains to be the source from which a subclass inherits. For example, you have a Base class of “Animal,” and a “Lion” is a Derived class. The inheritance will be Lion is an Animal."
   ]
  }
 ],
 "metadata": {
  "kernelspec": {
   "display_name": "Python 3 (ipykernel)",
   "language": "python",
   "name": "python3"
  },
  "language_info": {
   "codemirror_mode": {
    "name": "ipython",
    "version": 3
   },
   "file_extension": ".py",
   "mimetype": "text/x-python",
   "name": "python",
   "nbconvert_exporter": "python",
   "pygments_lexer": "ipython3",
   "version": "3.10.8"
  }
 },
 "nbformat": 4,
 "nbformat_minor": 5
}
